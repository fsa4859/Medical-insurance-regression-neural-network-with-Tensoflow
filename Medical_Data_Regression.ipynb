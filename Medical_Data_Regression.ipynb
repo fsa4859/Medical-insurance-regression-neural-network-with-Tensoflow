{
  "nbformat": 4,
  "nbformat_minor": 0,
  "metadata": {
    "colab": {
      "name": "Untitled4.ipynb",
      "provenance": []
    },
    "kernelspec": {
      "name": "python3",
      "display_name": "Python 3"
    },
    "language_info": {
      "name": "python"
    }
  },
  "cells": [
    {
      "cell_type": "code",
      "execution_count": 3,
      "metadata": {
        "id": "ZpcgjivDJBTU"
      },
      "outputs": [],
      "source": [
        "import tensorflow as tf\n",
        "import numpy as np\n",
        "import pandas as pd\n",
        "import matplotlib.pyplot as plt"
      ]
    },
    {
      "cell_type": "code",
      "source": [
        "# checking the version of tensorflow\n",
        "tf.__version__"
      ],
      "metadata": {
        "colab": {
          "base_uri": "https://localhost:8080/",
          "height": 35
        },
        "id": "Hns_YYLFJGz_",
        "outputId": "c08421eb-d5e1-4e87-bd6c-2c8c2a48008a"
      },
      "execution_count": 4,
      "outputs": [
        {
          "output_type": "execute_result",
          "data": {
            "text/plain": [
              "'2.8.2'"
            ],
            "application/vnd.google.colaboratory.intrinsic+json": {
              "type": "string"
            }
          },
          "metadata": {},
          "execution_count": 4
        }
      ]
    },
    {
      "cell_type": "markdown",
      "source": [
        "The Medical Training dataset is found in Kaggle https://www.kaggle.com/datasets/mirichoi0218/insurance\n",
        "\n",
        "we will read the dataset into pandas dataframe"
      ],
      "metadata": {
        "id": "prKIoSFEJNUC"
      }
    },
    {
      "cell_type": "code",
      "source": [
        "insurance=pd.read_csv(\"https://raw.githubusercontent.com/stedy/Machine-Learning-with-R-datasets/master/insurance.csv\")"
      ],
      "metadata": {
        "id": "cr0sVyMMKK2Y"
      },
      "execution_count": 5,
      "outputs": []
    },
    {
      "cell_type": "code",
      "source": [
        "# checking the data\n",
        "insurance.head()"
      ],
      "metadata": {
        "colab": {
          "base_uri": "https://localhost:8080/",
          "height": 206
        },
        "id": "EeUeSHzTKTi1",
        "outputId": "aec78c61-ec01-4a48-efe0-b9612e15c0f8"
      },
      "execution_count": 6,
      "outputs": [
        {
          "output_type": "execute_result",
          "data": {
            "text/plain": [
              "   age     sex     bmi  children smoker     region      charges\n",
              "0   19  female  27.900         0    yes  southwest  16884.92400\n",
              "1   18    male  33.770         1     no  southeast   1725.55230\n",
              "2   28    male  33.000         3     no  southeast   4449.46200\n",
              "3   33    male  22.705         0     no  northwest  21984.47061\n",
              "4   32    male  28.880         0     no  northwest   3866.85520"
            ],
            "text/html": [
              "\n",
              "  <div id=\"df-c71ccd74-34fe-461c-b989-c7a644e58ee4\">\n",
              "    <div class=\"colab-df-container\">\n",
              "      <div>\n",
              "<style scoped>\n",
              "    .dataframe tbody tr th:only-of-type {\n",
              "        vertical-align: middle;\n",
              "    }\n",
              "\n",
              "    .dataframe tbody tr th {\n",
              "        vertical-align: top;\n",
              "    }\n",
              "\n",
              "    .dataframe thead th {\n",
              "        text-align: right;\n",
              "    }\n",
              "</style>\n",
              "<table border=\"1\" class=\"dataframe\">\n",
              "  <thead>\n",
              "    <tr style=\"text-align: right;\">\n",
              "      <th></th>\n",
              "      <th>age</th>\n",
              "      <th>sex</th>\n",
              "      <th>bmi</th>\n",
              "      <th>children</th>\n",
              "      <th>smoker</th>\n",
              "      <th>region</th>\n",
              "      <th>charges</th>\n",
              "    </tr>\n",
              "  </thead>\n",
              "  <tbody>\n",
              "    <tr>\n",
              "      <th>0</th>\n",
              "      <td>19</td>\n",
              "      <td>female</td>\n",
              "      <td>27.900</td>\n",
              "      <td>0</td>\n",
              "      <td>yes</td>\n",
              "      <td>southwest</td>\n",
              "      <td>16884.92400</td>\n",
              "    </tr>\n",
              "    <tr>\n",
              "      <th>1</th>\n",
              "      <td>18</td>\n",
              "      <td>male</td>\n",
              "      <td>33.770</td>\n",
              "      <td>1</td>\n",
              "      <td>no</td>\n",
              "      <td>southeast</td>\n",
              "      <td>1725.55230</td>\n",
              "    </tr>\n",
              "    <tr>\n",
              "      <th>2</th>\n",
              "      <td>28</td>\n",
              "      <td>male</td>\n",
              "      <td>33.000</td>\n",
              "      <td>3</td>\n",
              "      <td>no</td>\n",
              "      <td>southeast</td>\n",
              "      <td>4449.46200</td>\n",
              "    </tr>\n",
              "    <tr>\n",
              "      <th>3</th>\n",
              "      <td>33</td>\n",
              "      <td>male</td>\n",
              "      <td>22.705</td>\n",
              "      <td>0</td>\n",
              "      <td>no</td>\n",
              "      <td>northwest</td>\n",
              "      <td>21984.47061</td>\n",
              "    </tr>\n",
              "    <tr>\n",
              "      <th>4</th>\n",
              "      <td>32</td>\n",
              "      <td>male</td>\n",
              "      <td>28.880</td>\n",
              "      <td>0</td>\n",
              "      <td>no</td>\n",
              "      <td>northwest</td>\n",
              "      <td>3866.85520</td>\n",
              "    </tr>\n",
              "  </tbody>\n",
              "</table>\n",
              "</div>\n",
              "      <button class=\"colab-df-convert\" onclick=\"convertToInteractive('df-c71ccd74-34fe-461c-b989-c7a644e58ee4')\"\n",
              "              title=\"Convert this dataframe to an interactive table.\"\n",
              "              style=\"display:none;\">\n",
              "        \n",
              "  <svg xmlns=\"http://www.w3.org/2000/svg\" height=\"24px\"viewBox=\"0 0 24 24\"\n",
              "       width=\"24px\">\n",
              "    <path d=\"M0 0h24v24H0V0z\" fill=\"none\"/>\n",
              "    <path d=\"M18.56 5.44l.94 2.06.94-2.06 2.06-.94-2.06-.94-.94-2.06-.94 2.06-2.06.94zm-11 1L8.5 8.5l.94-2.06 2.06-.94-2.06-.94L8.5 2.5l-.94 2.06-2.06.94zm10 10l.94 2.06.94-2.06 2.06-.94-2.06-.94-.94-2.06-.94 2.06-2.06.94z\"/><path d=\"M17.41 7.96l-1.37-1.37c-.4-.4-.92-.59-1.43-.59-.52 0-1.04.2-1.43.59L10.3 9.45l-7.72 7.72c-.78.78-.78 2.05 0 2.83L4 21.41c.39.39.9.59 1.41.59.51 0 1.02-.2 1.41-.59l7.78-7.78 2.81-2.81c.8-.78.8-2.07 0-2.86zM5.41 20L4 18.59l7.72-7.72 1.47 1.35L5.41 20z\"/>\n",
              "  </svg>\n",
              "      </button>\n",
              "      \n",
              "  <style>\n",
              "    .colab-df-container {\n",
              "      display:flex;\n",
              "      flex-wrap:wrap;\n",
              "      gap: 12px;\n",
              "    }\n",
              "\n",
              "    .colab-df-convert {\n",
              "      background-color: #E8F0FE;\n",
              "      border: none;\n",
              "      border-radius: 50%;\n",
              "      cursor: pointer;\n",
              "      display: none;\n",
              "      fill: #1967D2;\n",
              "      height: 32px;\n",
              "      padding: 0 0 0 0;\n",
              "      width: 32px;\n",
              "    }\n",
              "\n",
              "    .colab-df-convert:hover {\n",
              "      background-color: #E2EBFA;\n",
              "      box-shadow: 0px 1px 2px rgba(60, 64, 67, 0.3), 0px 1px 3px 1px rgba(60, 64, 67, 0.15);\n",
              "      fill: #174EA6;\n",
              "    }\n",
              "\n",
              "    [theme=dark] .colab-df-convert {\n",
              "      background-color: #3B4455;\n",
              "      fill: #D2E3FC;\n",
              "    }\n",
              "\n",
              "    [theme=dark] .colab-df-convert:hover {\n",
              "      background-color: #434B5C;\n",
              "      box-shadow: 0px 1px 3px 1px rgba(0, 0, 0, 0.15);\n",
              "      filter: drop-shadow(0px 1px 2px rgba(0, 0, 0, 0.3));\n",
              "      fill: #FFFFFF;\n",
              "    }\n",
              "  </style>\n",
              "\n",
              "      <script>\n",
              "        const buttonEl =\n",
              "          document.querySelector('#df-c71ccd74-34fe-461c-b989-c7a644e58ee4 button.colab-df-convert');\n",
              "        buttonEl.style.display =\n",
              "          google.colab.kernel.accessAllowed ? 'block' : 'none';\n",
              "\n",
              "        async function convertToInteractive(key) {\n",
              "          const element = document.querySelector('#df-c71ccd74-34fe-461c-b989-c7a644e58ee4');\n",
              "          const dataTable =\n",
              "            await google.colab.kernel.invokeFunction('convertToInteractive',\n",
              "                                                     [key], {});\n",
              "          if (!dataTable) return;\n",
              "\n",
              "          const docLinkHtml = 'Like what you see? Visit the ' +\n",
              "            '<a target=\"_blank\" href=https://colab.research.google.com/notebooks/data_table.ipynb>data table notebook</a>'\n",
              "            + ' to learn more about interactive tables.';\n",
              "          element.innerHTML = '';\n",
              "          dataTable['output_type'] = 'display_data';\n",
              "          await google.colab.output.renderOutput(dataTable, element);\n",
              "          const docLink = document.createElement('div');\n",
              "          docLink.innerHTML = docLinkHtml;\n",
              "          element.appendChild(docLink);\n",
              "        }\n",
              "      </script>\n",
              "    </div>\n",
              "  </div>\n",
              "  "
            ]
          },
          "metadata": {},
          "execution_count": 6
        }
      ]
    },
    {
      "cell_type": "markdown",
      "source": [
        "We will use scikit learn to make a column transformer that transforms the features into one hot encoding and normalized numerical values"
      ],
      "metadata": {
        "id": "maB5thtiKYaa"
      }
    },
    {
      "cell_type": "code",
      "source": [
        "from sklearn.compose import make_column_transformer\n",
        "from sklearn.preprocessing import MinMaxScaler, OneHotEncoder\n",
        "from sklearn.model_selection import train_test_split"
      ],
      "metadata": {
        "id": "jPNvDyQPLDcc"
      },
      "execution_count": 9,
      "outputs": []
    },
    {
      "cell_type": "code",
      "source": [
        "# create a column transformer\n",
        "ct=make_column_transformer((MinMaxScaler(),['age','bmi','children']),(OneHotEncoder(handle_unknown='ignore'),['sex','smoker','region']))\n",
        "\n",
        "# create x and y\n",
        "X=insurance.drop('charges',axis=1)\n",
        "y=insurance['charges']\n",
        "\n",
        "# create train and test datasets\n",
        "X_train, X_test, y_train, y_test = train_test_split(X, y, test_size=0.2, random_state=42)\n",
        "\n",
        "# fit column transformer on training data only\n",
        "ct.fit(X_train)\n",
        "\n",
        "# transform training and test data with normalization\n",
        "X_train_normal = ct.transform(X_train)\n",
        "X_test_normal = ct.transform(X_test)"
      ],
      "metadata": {
        "id": "u_HgDemvLUXR"
      },
      "execution_count": 11,
      "outputs": []
    },
    {
      "cell_type": "code",
      "source": [
        "# Visualize the data\n",
        "X_train_normal[0],X_train_normal.shape"
      ],
      "metadata": {
        "colab": {
          "base_uri": "https://localhost:8080/"
        },
        "id": "Uga6vl69OmN4",
        "outputId": "18b64e6a-063b-4f47-aea8-0886cc0dc5b2"
      },
      "execution_count": 18,
      "outputs": [
        {
          "output_type": "execute_result",
          "data": {
            "text/plain": [
              "(array([0.60869565, 0.10734463, 0.4       , 1.        , 0.        ,\n",
              "        1.        , 0.        , 0.        , 1.        , 0.        ,\n",
              "        0.        ]), (1070, 11))"
            ]
          },
          "metadata": {},
          "execution_count": 18
        }
      ]
    },
    {
      "cell_type": "code",
      "source": [
        "X_train.head(),X_train.shape"
      ],
      "metadata": {
        "colab": {
          "base_uri": "https://localhost:8080/"
        },
        "id": "xckWLOsrOxkr",
        "outputId": "3a2b5a73-5320-4b5e-b969-01a435375609"
      },
      "execution_count": 20,
      "outputs": [
        {
          "output_type": "execute_result",
          "data": {
            "text/plain": [
              "(      age     sex    bmi  children smoker     region\n",
              " 560    46  female  19.95         2     no  northwest\n",
              " 1285   47  female  24.32         0     no  northeast\n",
              " 1142   52  female  24.86         0     no  southeast\n",
              " 969    39  female  34.32         5     no  southeast\n",
              " 486    54  female  21.47         3     no  northwest, (1070, 6))"
            ]
          },
          "metadata": {},
          "execution_count": 20
        }
      ]
    },
    {
      "cell_type": "markdown",
      "source": [
        "Creating the deep learning model"
      ],
      "metadata": {
        "id": "jF46qeSDPGr5"
      }
    },
    {
      "cell_type": "code",
      "source": [
        "# building the model\n",
        "insurance_model=tf.keras.Sequential([tf.keras.layers.Dense(100),tf.keras.layers.Dense(10),tf.keras.layers.Dense(1)])\n",
        "\n",
        "\n",
        "# compile the model\n",
        "insurance_model.compile(loss='mae',optimizer=tf.keras.optimizers.Adam(lr=0.01),metrics='mae')\n",
        "\n",
        "# fit the model\n",
        "history=insurance_model.fit(X_train_normal,y_train,epochs=100)"
      ],
      "metadata": {
        "colab": {
          "base_uri": "https://localhost:8080/"
        },
        "id": "5hS9tE_lPgh2",
        "outputId": "c38bad2a-3bab-42c6-cd50-a7ba71d82fcf"
      },
      "execution_count": 27,
      "outputs": [
        {
          "output_type": "stream",
          "name": "stdout",
          "text": [
            "Epoch 1/100\n"
          ]
        },
        {
          "output_type": "stream",
          "name": "stderr",
          "text": [
            "/usr/local/lib/python3.7/dist-packages/keras/optimizer_v2/adam.py:105: UserWarning: The `lr` argument is deprecated, use `learning_rate` instead.\n",
            "  super(Adam, self).__init__(name, **kwargs)\n"
          ]
        },
        {
          "output_type": "stream",
          "name": "stdout",
          "text": [
            "34/34 [==============================] - 1s 2ms/step - loss: 13212.9023 - mae: 13212.9023\n",
            "Epoch 2/100\n",
            "34/34 [==============================] - 0s 2ms/step - loss: 11346.4893 - mae: 11346.4893\n",
            "Epoch 3/100\n",
            "34/34 [==============================] - 0s 2ms/step - loss: 8237.7695 - mae: 8237.7695\n",
            "Epoch 4/100\n",
            "34/34 [==============================] - 0s 3ms/step - loss: 7579.7964 - mae: 7579.7964\n",
            "Epoch 5/100\n",
            "34/34 [==============================] - 0s 2ms/step - loss: 7109.1592 - mae: 7109.1592\n",
            "Epoch 6/100\n",
            "34/34 [==============================] - 0s 2ms/step - loss: 6473.0366 - mae: 6473.0366\n",
            "Epoch 7/100\n",
            "34/34 [==============================] - 0s 2ms/step - loss: 5496.7578 - mae: 5496.7578\n",
            "Epoch 8/100\n",
            "34/34 [==============================] - 0s 3ms/step - loss: 4306.3423 - mae: 4306.3423\n",
            "Epoch 9/100\n",
            "34/34 [==============================] - 0s 2ms/step - loss: 3709.0466 - mae: 3709.0466\n",
            "Epoch 10/100\n",
            "34/34 [==============================] - 0s 2ms/step - loss: 3665.1006 - mae: 3665.1006\n",
            "Epoch 11/100\n",
            "34/34 [==============================] - 0s 2ms/step - loss: 3659.3057 - mae: 3659.3057\n",
            "Epoch 12/100\n",
            "34/34 [==============================] - 0s 2ms/step - loss: 3628.4600 - mae: 3628.4600\n",
            "Epoch 13/100\n",
            "34/34 [==============================] - 0s 2ms/step - loss: 3622.7722 - mae: 3622.7722\n",
            "Epoch 14/100\n",
            "34/34 [==============================] - 0s 2ms/step - loss: 3616.3643 - mae: 3616.3643\n",
            "Epoch 15/100\n",
            "34/34 [==============================] - 0s 2ms/step - loss: 3593.4355 - mae: 3593.4355\n",
            "Epoch 16/100\n",
            "34/34 [==============================] - 0s 2ms/step - loss: 3586.1582 - mae: 3586.1582\n",
            "Epoch 17/100\n",
            "34/34 [==============================] - 0s 2ms/step - loss: 3556.5291 - mae: 3556.5291\n",
            "Epoch 18/100\n",
            "34/34 [==============================] - 0s 2ms/step - loss: 3545.2832 - mae: 3545.2832\n",
            "Epoch 19/100\n",
            "34/34 [==============================] - 0s 2ms/step - loss: 3552.1489 - mae: 3552.1489\n",
            "Epoch 20/100\n",
            "34/34 [==============================] - 0s 2ms/step - loss: 3527.1960 - mae: 3527.1960\n",
            "Epoch 21/100\n",
            "34/34 [==============================] - 0s 2ms/step - loss: 3524.6509 - mae: 3524.6509\n",
            "Epoch 22/100\n",
            "34/34 [==============================] - 0s 2ms/step - loss: 3507.2200 - mae: 3507.2200\n",
            "Epoch 23/100\n",
            "34/34 [==============================] - 0s 2ms/step - loss: 3496.6880 - mae: 3496.6880\n",
            "Epoch 24/100\n",
            "34/34 [==============================] - 0s 2ms/step - loss: 3490.4226 - mae: 3490.4226\n",
            "Epoch 25/100\n",
            "34/34 [==============================] - 0s 2ms/step - loss: 3498.7339 - mae: 3498.7339\n",
            "Epoch 26/100\n",
            "34/34 [==============================] - 0s 2ms/step - loss: 3490.0156 - mae: 3490.0156\n",
            "Epoch 27/100\n",
            "34/34 [==============================] - 0s 2ms/step - loss: 3510.8735 - mae: 3510.8735\n",
            "Epoch 28/100\n",
            "34/34 [==============================] - 0s 2ms/step - loss: 3504.3884 - mae: 3504.3884\n",
            "Epoch 29/100\n",
            "34/34 [==============================] - 0s 2ms/step - loss: 3488.4231 - mae: 3488.4231\n",
            "Epoch 30/100\n",
            "34/34 [==============================] - 0s 3ms/step - loss: 3489.1658 - mae: 3489.1658\n",
            "Epoch 31/100\n",
            "34/34 [==============================] - 0s 3ms/step - loss: 3485.4260 - mae: 3485.4260\n",
            "Epoch 32/100\n",
            "34/34 [==============================] - 0s 2ms/step - loss: 3504.1069 - mae: 3504.1069\n",
            "Epoch 33/100\n",
            "34/34 [==============================] - 0s 2ms/step - loss: 3499.8457 - mae: 3499.8457\n",
            "Epoch 34/100\n",
            "34/34 [==============================] - 0s 2ms/step - loss: 3496.5215 - mae: 3496.5215\n",
            "Epoch 35/100\n",
            "34/34 [==============================] - 0s 2ms/step - loss: 3497.6897 - mae: 3497.6897\n",
            "Epoch 36/100\n",
            "34/34 [==============================] - 0s 2ms/step - loss: 3490.8303 - mae: 3490.8303\n",
            "Epoch 37/100\n",
            "34/34 [==============================] - 0s 2ms/step - loss: 3487.2161 - mae: 3487.2161\n",
            "Epoch 38/100\n",
            "34/34 [==============================] - 0s 2ms/step - loss: 3485.6821 - mae: 3485.6821\n",
            "Epoch 39/100\n",
            "34/34 [==============================] - 0s 2ms/step - loss: 3493.9700 - mae: 3493.9700\n",
            "Epoch 40/100\n",
            "34/34 [==============================] - 0s 2ms/step - loss: 3501.4211 - mae: 3501.4211\n",
            "Epoch 41/100\n",
            "34/34 [==============================] - 0s 2ms/step - loss: 3501.6521 - mae: 3501.6521\n",
            "Epoch 42/100\n",
            "34/34 [==============================] - 0s 2ms/step - loss: 3505.2197 - mae: 3505.2197\n",
            "Epoch 43/100\n",
            "34/34 [==============================] - 0s 2ms/step - loss: 3492.5024 - mae: 3492.5024\n",
            "Epoch 44/100\n",
            "34/34 [==============================] - 0s 2ms/step - loss: 3490.3225 - mae: 3490.3225\n",
            "Epoch 45/100\n",
            "34/34 [==============================] - 0s 2ms/step - loss: 3484.0649 - mae: 3484.0649\n",
            "Epoch 46/100\n",
            "34/34 [==============================] - 0s 2ms/step - loss: 3486.1953 - mae: 3486.1953\n",
            "Epoch 47/100\n",
            "34/34 [==============================] - 0s 2ms/step - loss: 3491.6501 - mae: 3491.6501\n",
            "Epoch 48/100\n",
            "34/34 [==============================] - 0s 2ms/step - loss: 3507.5840 - mae: 3507.5840\n",
            "Epoch 49/100\n",
            "34/34 [==============================] - 0s 2ms/step - loss: 3506.6479 - mae: 3506.6479\n",
            "Epoch 50/100\n",
            "34/34 [==============================] - 0s 2ms/step - loss: 3488.6882 - mae: 3488.6882\n",
            "Epoch 51/100\n",
            "34/34 [==============================] - 0s 2ms/step - loss: 3493.0532 - mae: 3493.0532\n",
            "Epoch 52/100\n",
            "34/34 [==============================] - 0s 2ms/step - loss: 3501.0339 - mae: 3501.0339\n",
            "Epoch 53/100\n",
            "34/34 [==============================] - 0s 2ms/step - loss: 3497.8716 - mae: 3497.8716\n",
            "Epoch 54/100\n",
            "34/34 [==============================] - 0s 2ms/step - loss: 3494.0471 - mae: 3494.0471\n",
            "Epoch 55/100\n",
            "34/34 [==============================] - 0s 2ms/step - loss: 3494.2341 - mae: 3494.2341\n",
            "Epoch 56/100\n",
            "34/34 [==============================] - 0s 2ms/step - loss: 3489.6921 - mae: 3489.6921\n",
            "Epoch 57/100\n",
            "34/34 [==============================] - 0s 2ms/step - loss: 3495.2131 - mae: 3495.2131\n",
            "Epoch 58/100\n",
            "34/34 [==============================] - 0s 2ms/step - loss: 3484.2358 - mae: 3484.2358\n",
            "Epoch 59/100\n",
            "34/34 [==============================] - 0s 2ms/step - loss: 3483.4031 - mae: 3483.4031\n",
            "Epoch 60/100\n",
            "34/34 [==============================] - 0s 2ms/step - loss: 3505.3557 - mae: 3505.3557\n",
            "Epoch 61/100\n",
            "34/34 [==============================] - 0s 2ms/step - loss: 3486.8267 - mae: 3486.8267\n",
            "Epoch 62/100\n",
            "34/34 [==============================] - 0s 2ms/step - loss: 3487.3452 - mae: 3487.3452\n",
            "Epoch 63/100\n",
            "34/34 [==============================] - 0s 2ms/step - loss: 3529.1841 - mae: 3529.1841\n",
            "Epoch 64/100\n",
            "34/34 [==============================] - 0s 2ms/step - loss: 3485.3274 - mae: 3485.3274\n",
            "Epoch 65/100\n",
            "34/34 [==============================] - 0s 3ms/step - loss: 3496.3665 - mae: 3496.3665\n",
            "Epoch 66/100\n",
            "34/34 [==============================] - 0s 2ms/step - loss: 3501.8647 - mae: 3501.8647\n",
            "Epoch 67/100\n",
            "34/34 [==============================] - 0s 2ms/step - loss: 3483.1409 - mae: 3483.1409\n",
            "Epoch 68/100\n",
            "34/34 [==============================] - 0s 2ms/step - loss: 3489.7214 - mae: 3489.7214\n",
            "Epoch 69/100\n",
            "34/34 [==============================] - 0s 2ms/step - loss: 3484.4832 - mae: 3484.4832\n",
            "Epoch 70/100\n",
            "34/34 [==============================] - 0s 2ms/step - loss: 3498.3533 - mae: 3498.3533\n",
            "Epoch 71/100\n",
            "34/34 [==============================] - 0s 2ms/step - loss: 3502.9360 - mae: 3502.9360\n",
            "Epoch 72/100\n",
            "34/34 [==============================] - 0s 2ms/step - loss: 3489.4824 - mae: 3489.4824\n",
            "Epoch 73/100\n",
            "34/34 [==============================] - 0s 2ms/step - loss: 3483.3223 - mae: 3483.3223\n",
            "Epoch 74/100\n",
            "34/34 [==============================] - 0s 2ms/step - loss: 3480.0415 - mae: 3480.0415\n",
            "Epoch 75/100\n",
            "34/34 [==============================] - 0s 2ms/step - loss: 3487.4836 - mae: 3487.4836\n",
            "Epoch 76/100\n",
            "34/34 [==============================] - 0s 3ms/step - loss: 3488.2019 - mae: 3488.2019\n",
            "Epoch 77/100\n",
            "34/34 [==============================] - 0s 2ms/step - loss: 3490.7053 - mae: 3490.7053\n",
            "Epoch 78/100\n",
            "34/34 [==============================] - 0s 2ms/step - loss: 3496.6934 - mae: 3496.6934\n",
            "Epoch 79/100\n",
            "34/34 [==============================] - 0s 2ms/step - loss: 3498.4985 - mae: 3498.4985\n",
            "Epoch 80/100\n",
            "34/34 [==============================] - 0s 2ms/step - loss: 3501.7617 - mae: 3501.7617\n",
            "Epoch 81/100\n",
            "34/34 [==============================] - 0s 2ms/step - loss: 3489.3831 - mae: 3489.3831\n",
            "Epoch 82/100\n",
            "34/34 [==============================] - 0s 3ms/step - loss: 3484.4004 - mae: 3484.4004\n",
            "Epoch 83/100\n",
            "34/34 [==============================] - 0s 2ms/step - loss: 3486.3745 - mae: 3486.3745\n",
            "Epoch 84/100\n",
            "34/34 [==============================] - 0s 2ms/step - loss: 3509.2336 - mae: 3509.2336\n",
            "Epoch 85/100\n",
            "34/34 [==============================] - 0s 2ms/step - loss: 3501.3633 - mae: 3501.3633\n",
            "Epoch 86/100\n",
            "34/34 [==============================] - 0s 2ms/step - loss: 3491.6272 - mae: 3491.6272\n",
            "Epoch 87/100\n",
            "34/34 [==============================] - 0s 2ms/step - loss: 3502.4023 - mae: 3502.4023\n",
            "Epoch 88/100\n",
            "34/34 [==============================] - 0s 2ms/step - loss: 3491.8977 - mae: 3491.8977\n",
            "Epoch 89/100\n",
            "34/34 [==============================] - 0s 2ms/step - loss: 3483.9248 - mae: 3483.9248\n",
            "Epoch 90/100\n",
            "34/34 [==============================] - 0s 2ms/step - loss: 3498.8638 - mae: 3498.8638\n",
            "Epoch 91/100\n",
            "34/34 [==============================] - 0s 2ms/step - loss: 3495.8552 - mae: 3495.8552\n",
            "Epoch 92/100\n",
            "34/34 [==============================] - 0s 2ms/step - loss: 3499.1162 - mae: 3499.1162\n",
            "Epoch 93/100\n",
            "34/34 [==============================] - 0s 2ms/step - loss: 3501.9761 - mae: 3501.9761\n",
            "Epoch 94/100\n",
            "34/34 [==============================] - 0s 2ms/step - loss: 3500.4934 - mae: 3500.4934\n",
            "Epoch 95/100\n",
            "34/34 [==============================] - 0s 2ms/step - loss: 3494.5679 - mae: 3494.5679\n",
            "Epoch 96/100\n",
            "34/34 [==============================] - 0s 2ms/step - loss: 3500.4275 - mae: 3500.4275\n",
            "Epoch 97/100\n",
            "34/34 [==============================] - 0s 2ms/step - loss: 3494.8958 - mae: 3494.8958\n",
            "Epoch 98/100\n",
            "34/34 [==============================] - 0s 2ms/step - loss: 3491.7981 - mae: 3491.7981\n",
            "Epoch 99/100\n",
            "34/34 [==============================] - 0s 2ms/step - loss: 3492.2432 - mae: 3492.2432\n",
            "Epoch 100/100\n",
            "34/34 [==============================] - 0s 2ms/step - loss: 3485.6802 - mae: 3485.6802\n"
          ]
        }
      ]
    },
    {
      "cell_type": "code",
      "source": [
        "# Plot history (also known as a loss curve)\n",
        "pd.DataFrame(history.history).plot()\n",
        "plt.ylabel(\"loss\")\n",
        "plt.xlabel(\"epochs\");"
      ],
      "metadata": {
        "colab": {
          "base_uri": "https://localhost:8080/",
          "height": 279
        },
        "id": "PTb2ZNz7T3i4",
        "outputId": "8f378255-8b26-4d94-96b1-e5026ca70f7c"
      },
      "execution_count": 28,
      "outputs": [
        {
          "output_type": "display_data",
          "data": {
            "text/plain": [
              "<Figure size 432x288 with 1 Axes>"
            ],
            "image/png": "[encoded data removed]"
          },
          "metadata": {
            "needs_background": "light"
          }
        }
      ]
    },
    {
      "cell_type": "code",
      "source": [
        ""
      ],
      "metadata": {
        "id": "R3wqzj9KVk7p"
      },
      "execution_count": null,
      "outputs": []
    }
  ]
}